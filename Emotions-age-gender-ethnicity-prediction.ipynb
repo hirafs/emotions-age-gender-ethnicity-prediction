{
 "cells": [
  {
   "cell_type": "markdown",
   "metadata": {},
   "source": [
    "# EMOTIONS DATASET"
   ]
  },
  {
   "cell_type": "markdown",
   "metadata": {},
   "source": [
    "# Data pre-processing"
   ]
  },
  {
   "cell_type": "code",
   "execution_count": 1,
   "metadata": {},
   "outputs": [],
   "source": [
    "import os"
   ]
  },
  {
   "cell_type": "code",
   "execution_count": 2,
   "metadata": {},
   "outputs": [],
   "source": [
    "folders='emotions'"
   ]
  },
  {
   "cell_type": "code",
   "execution_count": null,
   "metadata": {},
   "outputs": [],
   "source": []
  },
  {
   "cell_type": "code",
   "execution_count": 3,
   "metadata": {},
   "outputs": [
    {
     "name": "stdout",
     "output_type": "stream",
     "text": [
      "7\n"
     ]
    }
   ],
   "source": [
    "files=os.listdir(folders)\n",
    "print(len(files))"
   ]
  },
  {
   "cell_type": "code",
   "execution_count": 4,
   "metadata": {},
   "outputs": [
    {
     "name": "stdout",
     "output_type": "stream",
     "text": [
      "Number of emotions: 7\n"
     ]
    }
   ],
   "source": [
    "print(\"Number of emotions:\",len(files))"
   ]
  },
  {
   "cell_type": "markdown",
   "metadata": {},
   "source": [
    "# Determine the paths"
   ]
  },
  {
   "cell_type": "code",
   "execution_count": 5,
   "metadata": {},
   "outputs": [],
   "source": [
    "angerpath= 'emotions/anger'\n",
    "contemptpath='emotions/contempt'\n",
    "disgustpath= 'emotions/disgust'\n",
    "fearpath= 'emotions/fear'\n",
    "happypath='emotions/happy'\n",
    "sadnesspath='emotions/sadness'\n",
    "surprisepath= 'emotions/surprise'"
   ]
  },
  {
   "cell_type": "markdown",
   "metadata": {},
   "source": [
    "# Number of images for each emotion"
   ]
  },
  {
   "cell_type": "code",
   "execution_count": 6,
   "metadata": {},
   "outputs": [],
   "source": [
    "#anger\n",
    "angerimages=os.listdir(angerpath)\n",
    "v1=len(angerimages)\n",
    "#contempt\n",
    "contemptimages=os.listdir(contemptpath)\n",
    "v2=len(contemptimages)\n",
    "#disgust\n",
    "disgustimages=os.listdir(disgustpath)\n",
    "v3=len(disgustimages)\n",
    "#fear\n",
    "fearimages=os.listdir(fearpath)\n",
    "v4=len(fearimages)\n",
    "#happy\n",
    "happyimages=os.listdir(happypath)\n",
    "v5=len(happyimages)\n",
    "#sadness\n",
    "sadnessimages=os.listdir(sadnesspath)\n",
    "v6=len(sadnessimages)\n",
    "#surprise\n",
    "surpriseimages=os.listdir(surprisepath)\n",
    "v7=len(surpriseimages)"
   ]
  },
  {
   "cell_type": "code",
   "execution_count": 7,
   "metadata": {},
   "outputs": [
    {
     "name": "stdout",
     "output_type": "stream",
     "text": [
      "\n",
      " Anger --- 135 images\n",
      " Contempt --- 54 images\n",
      " Disgust --- 177 images\n",
      " Fear --- 75 images\n",
      " Happy --- 207 images\n",
      " Sadness --- 84 images\n",
      " Surprise --- 249 images\n",
      "\n"
     ]
    }
   ],
   "source": [
    "print('\\n','Anger','---',v1,'images\\n',\n",
    "    'Contempt','---',v2,'images\\n',\n",
    "     'Disgust','---',v3,'images\\n',\n",
    "     'Fear','---',v4,'images\\n',\n",
    "     'Happy','---',v5,'images\\n',\n",
    "     'Sadness','---',v6,'images\\n',\n",
    "     'Surprise','---',v7,'images\\n')"
   ]
  },
  {
   "cell_type": "markdown",
   "metadata": {},
   "source": [
    "# Plotting a bar graph"
   ]
  },
  {
   "cell_type": "code",
   "execution_count": 8,
   "metadata": {},
   "outputs": [
    {
     "data": {
      "image/png": "[encoded data removed]",
      "text/plain": [
       "<Figure size 432x288 with 1 Axes>"
      ]
     },
     "metadata": {
      "needs_background": "light"
     },
     "output_type": "display_data"
    }
   ],
   "source": [
    "import matplotlib.pyplot as plt\n",
    "\n",
    "Emotions = ['anger', 'contempt', 'disgust', 'fear', 'happy', 'sadness', 'surprise']\n",
    "Numbers = [v1, v2, v3, v4, v5, v6, v7]\n",
    "\n",
    "New_Colors = ['green','blue','purple','brown','teal', 'yellow','black']\n",
    "plt.bar(Emotions,Numbers, color=New_Colors)\n",
    "plt.title('Dataset analysis', fontsize=14)\n",
    "plt.xlabel('Emotions', fontsize=14)\n",
    "plt.ylabel('Number of images', fontsize=14)\n",
    "plt.grid(True)\n",
    "plt.show()"
   ]
  },
  {
   "cell_type": "code",
   "execution_count": null,
   "metadata": {},
   "outputs": [],
   "source": []
  },
  {
   "cell_type": "markdown",
   "metadata": {},
   "source": [
    "# AGE GENDER ETHNICITY DATASET"
   ]
  },
  {
   "cell_type": "code",
   "execution_count": 9,
   "metadata": {},
   "outputs": [],
   "source": [
    "import numpy as np # linear algebra\n",
    "np.random.seed(100)\n",
    "import pandas as pd"
   ]
  },
  {
   "cell_type": "code",
   "execution_count": 10,
   "metadata": {},
   "outputs": [],
   "source": [
    "import os"
   ]
  },
  {
   "cell_type": "code",
   "execution_count": 11,
   "metadata": {},
   "outputs": [],
   "source": [
    "import re\n",
    "A = os.listdir('age-gender-ethnicity/UTKFace')"
   ]
  },
  {
   "cell_type": "code",
   "execution_count": 12,
   "metadata": {},
   "outputs": [],
   "source": [
    "data = [i.split('.') for i in A]\n",
    "info = [i[0].split('_') for i in data]\n",
    "df = pd.DataFrame(info, columns=['Age','Gender', 'Race', 'ImageDescription'])\n",
    "df['Name'] = A"
   ]
  },
  {
   "cell_type": "code",
   "execution_count": 13,
   "metadata": {},
   "outputs": [
    {
     "data": {
      "text/html": [
       "<div>\n",
       "<style scoped>\n",
       "    .dataframe tbody tr th:only-of-type {\n",
       "        vertical-align: middle;\n",
       "    }\n",
       "\n",
       "    .dataframe tbody tr th {\n",
       "        vertical-align: top;\n",
       "    }\n",
       "\n",
       "    .dataframe thead th {\n",
       "        text-align: right;\n",
       "    }\n",
       "</style>\n",
       "<table border=\"1\" class=\"dataframe\">\n",
       "  <thead>\n",
       "    <tr style=\"text-align: right;\">\n",
       "      <th></th>\n",
       "      <th>Age</th>\n",
       "      <th>Gender</th>\n",
       "      <th>Race</th>\n",
       "      <th>ImageDescription</th>\n",
       "      <th>Name</th>\n",
       "    </tr>\n",
       "  </thead>\n",
       "  <tbody>\n",
       "    <tr>\n",
       "      <th>0</th>\n",
       "      <td>100</td>\n",
       "      <td>0</td>\n",
       "      <td>0</td>\n",
       "      <td>20170112213500903</td>\n",
       "      <td>100_0_0_20170112213500903.jpg.chip.jpg</td>\n",
       "    </tr>\n",
       "    <tr>\n",
       "      <th>1</th>\n",
       "      <td>100</td>\n",
       "      <td>0</td>\n",
       "      <td>0</td>\n",
       "      <td>20170112215240346</td>\n",
       "      <td>100_0_0_20170112215240346.jpg.chip.jpg</td>\n",
       "    </tr>\n",
       "    <tr>\n",
       "      <th>2</th>\n",
       "      <td>100</td>\n",
       "      <td>1</td>\n",
       "      <td>0</td>\n",
       "      <td>20170110183726390</td>\n",
       "      <td>100_1_0_20170110183726390.jpg.chip.jpg</td>\n",
       "    </tr>\n",
       "    <tr>\n",
       "      <th>3</th>\n",
       "      <td>100</td>\n",
       "      <td>1</td>\n",
       "      <td>0</td>\n",
       "      <td>20170112213001988</td>\n",
       "      <td>100_1_0_20170112213001988.jpg.chip.jpg</td>\n",
       "    </tr>\n",
       "    <tr>\n",
       "      <th>4</th>\n",
       "      <td>100</td>\n",
       "      <td>1</td>\n",
       "      <td>0</td>\n",
       "      <td>20170112213303693</td>\n",
       "      <td>100_1_0_20170112213303693.jpg.chip.jpg</td>\n",
       "    </tr>\n",
       "    <tr>\n",
       "      <th>...</th>\n",
       "      <td>...</td>\n",
       "      <td>...</td>\n",
       "      <td>...</td>\n",
       "      <td>...</td>\n",
       "      <td>...</td>\n",
       "    </tr>\n",
       "    <tr>\n",
       "      <th>23703</th>\n",
       "      <td>9</td>\n",
       "      <td>1</td>\n",
       "      <td>3</td>\n",
       "      <td>20161220222856346</td>\n",
       "      <td>9_1_3_20161220222856346.jpg.chip.jpg</td>\n",
       "    </tr>\n",
       "    <tr>\n",
       "      <th>23704</th>\n",
       "      <td>9</td>\n",
       "      <td>1</td>\n",
       "      <td>3</td>\n",
       "      <td>20170104222949455</td>\n",
       "      <td>9_1_3_20170104222949455.jpg.chip.jpg</td>\n",
       "    </tr>\n",
       "    <tr>\n",
       "      <th>23705</th>\n",
       "      <td>9</td>\n",
       "      <td>1</td>\n",
       "      <td>4</td>\n",
       "      <td>20170103200637399</td>\n",
       "      <td>9_1_4_20170103200637399.jpg.chip.jpg</td>\n",
       "    </tr>\n",
       "    <tr>\n",
       "      <th>23706</th>\n",
       "      <td>9</td>\n",
       "      <td>1</td>\n",
       "      <td>4</td>\n",
       "      <td>20170103200814791</td>\n",
       "      <td>9_1_4_20170103200814791.jpg.chip.jpg</td>\n",
       "    </tr>\n",
       "    <tr>\n",
       "      <th>23707</th>\n",
       "      <td>9</td>\n",
       "      <td>1</td>\n",
       "      <td>4</td>\n",
       "      <td>20170103213057382</td>\n",
       "      <td>9_1_4_20170103213057382.jpg.chip.jpg</td>\n",
       "    </tr>\n",
       "  </tbody>\n",
       "</table>\n",
       "<p>23708 rows × 5 columns</p>\n",
       "</div>"
      ],
      "text/plain": [
       "       Age Gender Race   ImageDescription  \\\n",
       "0      100      0    0  20170112213500903   \n",
       "1      100      0    0  20170112215240346   \n",
       "2      100      1    0  20170110183726390   \n",
       "3      100      1    0  20170112213001988   \n",
       "4      100      1    0  20170112213303693   \n",
       "...    ...    ...  ...                ...   \n",
       "23703    9      1    3  20161220222856346   \n",
       "23704    9      1    3  20170104222949455   \n",
       "23705    9      1    4  20170103200637399   \n",
       "23706    9      1    4  20170103200814791   \n",
       "23707    9      1    4  20170103213057382   \n",
       "\n",
       "                                         Name  \n",
       "0      100_0_0_20170112213500903.jpg.chip.jpg  \n",
       "1      100_0_0_20170112215240346.jpg.chip.jpg  \n",
       "2      100_1_0_20170110183726390.jpg.chip.jpg  \n",
       "3      100_1_0_20170112213001988.jpg.chip.jpg  \n",
       "4      100_1_0_20170112213303693.jpg.chip.jpg  \n",
       "...                                       ...  \n",
       "23703    9_1_3_20161220222856346.jpg.chip.jpg  \n",
       "23704    9_1_3_20170104222949455.jpg.chip.jpg  \n",
       "23705    9_1_4_20170103200637399.jpg.chip.jpg  \n",
       "23706    9_1_4_20170103200814791.jpg.chip.jpg  \n",
       "23707    9_1_4_20170103213057382.jpg.chip.jpg  \n",
       "\n",
       "[23708 rows x 5 columns]"
      ]
     },
     "execution_count": 13,
     "metadata": {},
     "output_type": "execute_result"
    }
   ],
   "source": [
    "df"
   ]
  },
  {
   "cell_type": "code",
   "execution_count": 14,
   "metadata": {
    "scrolled": true
   },
   "outputs": [
    {
     "name": "stdout",
     "output_type": "stream",
     "text": [
      "Requirement already satisfied: tensorflow in c:\\programdata\\anaconda3\\envs\\envname\\lib\\site-packages (2.1.0)\n",
      "Requirement already satisfied: absl-py>=0.7.0 in c:\\programdata\\anaconda3\\envs\\envname\\lib\\site-packages (from tensorflow) (0.10.0)\n",
      "Requirement already satisfied: opt-einsum>=2.3.2 in c:\\programdata\\anaconda3\\envs\\envname\\lib\\site-packages (from tensorflow) (3.1.0)\n",
      "Requirement already satisfied: scipy==1.4.1 in c:\\programdata\\anaconda3\\envs\\envname\\lib\\site-packages (from tensorflow) (1.4.1)\n",
      "Requirement already satisfied: six>=1.12.0 in c:\\programdata\\anaconda3\\envs\\envname\\lib\\site-packages (from tensorflow) (1.15.0)\n",
      "Requirement already satisfied: tensorflow-estimator<2.2.0,>=2.1.0rc0 in c:\\programdata\\anaconda3\\envs\\envname\\lib\\site-packages (from tensorflow) (2.1.0)\n",
      "Requirement already satisfied: termcolor>=1.1.0 in c:\\programdata\\anaconda3\\envs\\envname\\lib\\site-packages (from tensorflow) (1.1.0)\n",
      "Requirement already satisfied: keras-preprocessing>=1.1.0 in c:\\programdata\\anaconda3\\envs\\envname\\lib\\site-packages (from tensorflow) (1.1.0)\n",
      "Requirement already satisfied: gast==0.2.2 in c:\\programdata\\anaconda3\\envs\\envname\\lib\\site-packages (from tensorflow) (0.2.2)\n",
      "Requirement already satisfied: grpcio>=1.8.6 in c:\\programdata\\anaconda3\\envs\\envname\\lib\\site-packages (from tensorflow) (1.31.0)\n",
      "Requirement already satisfied: keras-applications>=1.0.8 in c:\\programdata\\anaconda3\\envs\\envname\\lib\\site-packages (from tensorflow) (1.0.8)\n",
      "Requirement already satisfied: google-pasta>=0.1.6 in c:\\programdata\\anaconda3\\envs\\envname\\lib\\site-packages (from tensorflow) (0.2.0)\n",
      "Requirement already satisfied: protobuf>=3.8.0 in c:\\programdata\\anaconda3\\envs\\envname\\lib\\site-packages (from tensorflow) (3.13.0)\n",
      "Requirement already satisfied: numpy<2.0,>=1.16.0 in c:\\programdata\\anaconda3\\envs\\envname\\lib\\site-packages (from tensorflow) (1.19.1)\n",
      "Requirement already satisfied: tensorboard<2.2.0,>=2.1.0 in c:\\programdata\\anaconda3\\envs\\envname\\lib\\site-packages (from tensorflow) (2.1.1)\n",
      "Requirement already satisfied: wheel>=0.26 in c:\\programdata\\anaconda3\\envs\\envname\\lib\\site-packages (from tensorflow) (0.36.2)\n",
      "Requirement already satisfied: astor>=0.6.0 in c:\\programdata\\anaconda3\\envs\\envname\\lib\\site-packages (from tensorflow) (0.8.1)\n",
      "Requirement already satisfied: wrapt>=1.11.1 in c:\\programdata\\anaconda3\\envs\\envname\\lib\\site-packages (from tensorflow) (1.12.1)\n",
      "Requirement already satisfied: h5py in c:\\programdata\\anaconda3\\envs\\envname\\lib\\site-packages (from keras-applications>=1.0.8->tensorflow) (2.8.0)\n",
      "Requirement already satisfied: setuptools in c:\\programdata\\anaconda3\\envs\\envname\\lib\\site-packages (from protobuf>=3.8.0->tensorflow) (52.0.0.post20210125)\n",
      "Requirement already satisfied: werkzeug>=0.11.15 in c:\\programdata\\anaconda3\\envs\\envname\\lib\\site-packages (from tensorboard<2.2.0,>=2.1.0->tensorflow) (0.16.1)\n",
      "Requirement already satisfied: markdown>=2.6.8 in c:\\programdata\\anaconda3\\envs\\envname\\lib\\site-packages (from tensorboard<2.2.0,>=2.1.0->tensorflow) (3.3.2)\n",
      "Requirement already satisfied: requests<3,>=2.21.0 in c:\\programdata\\anaconda3\\envs\\envname\\lib\\site-packages (from tensorboard<2.2.0,>=2.1.0->tensorflow) (2.24.0)\n",
      "Requirement already satisfied: google-auth<2,>=1.6.3 in c:\\programdata\\anaconda3\\envs\\envname\\lib\\site-packages (from tensorboard<2.2.0,>=2.1.0->tensorflow) (1.22.1)\n",
      "Requirement already satisfied: google-auth-oauthlib<0.5,>=0.4.1 in c:\\programdata\\anaconda3\\envs\\envname\\lib\\site-packages (from tensorboard<2.2.0,>=2.1.0->tensorflow) (0.4.1)\n",
      "Requirement already satisfied: pyasn1-modules>=0.2.1 in c:\\programdata\\anaconda3\\envs\\envname\\lib\\site-packages (from google-auth<2,>=1.6.3->tensorboard<2.2.0,>=2.1.0->tensorflow) (0.2.8)\n",
      "Requirement already satisfied: rsa<5,>=3.1.4 in c:\\programdata\\anaconda3\\envs\\envname\\lib\\site-packages (from google-auth<2,>=1.6.3->tensorboard<2.2.0,>=2.1.0->tensorflow) (4.6)\n",
      "Requirement already satisfied: cachetools<5.0,>=2.0.0 in c:\\programdata\\anaconda3\\envs\\envname\\lib\\site-packages (from google-auth<2,>=1.6.3->tensorboard<2.2.0,>=2.1.0->tensorflow) (4.1.1)\n",
      "Requirement already satisfied: requests-oauthlib>=0.7.0 in c:\\programdata\\anaconda3\\envs\\envname\\lib\\site-packages (from google-auth-oauthlib<0.5,>=0.4.1->tensorboard<2.2.0,>=2.1.0->tensorflow) (1.3.0)\n",
      "Requirement already satisfied: importlib-metadata in c:\\programdata\\anaconda3\\envs\\envname\\lib\\site-packages (from markdown>=2.6.8->tensorboard<2.2.0,>=2.1.0->tensorflow) (2.0.0)\n",
      "Requirement already satisfied: pyasn1<0.5.0,>=0.4.6 in c:\\programdata\\anaconda3\\envs\\envname\\lib\\site-packages (from pyasn1-modules>=0.2.1->google-auth<2,>=1.6.3->tensorboard<2.2.0,>=2.1.0->tensorflow) (0.4.8)\n",
      "Requirement already satisfied: certifi>=2017.4.17 in c:\\programdata\\anaconda3\\envs\\envname\\lib\\site-packages (from requests<3,>=2.21.0->tensorboard<2.2.0,>=2.1.0->tensorflow) (2020.6.20)\n",
      "Requirement already satisfied: urllib3!=1.25.0,!=1.25.1,<1.26,>=1.21.1 in c:\\programdata\\anaconda3\\envs\\envname\\lib\\site-packages (from requests<3,>=2.21.0->tensorboard<2.2.0,>=2.1.0->tensorflow) (1.25.11)\n",
      "Requirement already satisfied: chardet<4,>=3.0.2 in c:\\programdata\\anaconda3\\envs\\envname\\lib\\site-packages (from requests<3,>=2.21.0->tensorboard<2.2.0,>=2.1.0->tensorflow) (3.0.4)\n",
      "Requirement already satisfied: idna<3,>=2.5 in c:\\programdata\\anaconda3\\envs\\envname\\lib\\site-packages (from requests<3,>=2.21.0->tensorboard<2.2.0,>=2.1.0->tensorflow) (2.10)\n",
      "Requirement already satisfied: oauthlib>=3.0.0 in c:\\programdata\\anaconda3\\envs\\envname\\lib\\site-packages (from requests-oauthlib>=0.7.0->google-auth-oauthlib<0.5,>=0.4.1->tensorboard<2.2.0,>=2.1.0->tensorflow) (3.1.0)\n",
      "Requirement already satisfied: zipp>=0.5 in c:\\programdata\\anaconda3\\envs\\envname\\lib\\site-packages (from importlib-metadata->markdown>=2.6.8->tensorboard<2.2.0,>=2.1.0->tensorflow) (3.3.1)\n",
      "Note: you may need to restart the kernel to use updated packages.\n"
     ]
    }
   ],
   "source": [
    "pip install tensorflow"
   ]
  },
  {
   "cell_type": "code",
   "execution_count": 15,
   "metadata": {},
   "outputs": [],
   "source": [
    "import tensorflow as tf\n",
    "import pathlib\n",
    "import PIL\n",
    "from tensorflow.keras.preprocessing.image import ImageDataGenerator\n",
    "from sklearn.model_selection import train_test_split\n",
    "from sklearn.model_selection import KFold\n",
    "from tensorflow.keras import layers\n",
    "import matplotlib.pyplot as plt\n"
   ]
  },
  {
   "cell_type": "code",
   "execution_count": 16,
   "metadata": {},
   "outputs": [],
   "source": [
    "path_utk = 'age-gender-ethnicity/UTKFace'\n",
    "path_face_cropped = 'age-gender-ethnicity/crop_part1'"
   ]
  },
  {
   "cell_type": "code",
   "execution_count": 17,
   "metadata": {},
   "outputs": [
    {
     "name": "stdout",
     "output_type": "stream",
     "text": [
      "Requirement already satisfied: pathlib in c:\\programdata\\anaconda3\\envs\\envname\\lib\\site-packages (1.0.1)\n",
      "Note: you may need to restart the kernel to use updated packages.\n"
     ]
    }
   ],
   "source": [
    "pip install pathlib"
   ]
  },
  {
   "cell_type": "code",
   "execution_count": 18,
   "metadata": {},
   "outputs": [
    {
     "name": "stdout",
     "output_type": "stream",
     "text": [
      "length of string:  31\n",
      "number of images in directory:  9780\n"
     ]
    }
   ],
   "source": [
    "path_face_cropped = pathlib.Path(path_face_cropped)\n",
    "path_utk = pathlib.Path(path_utk)\n",
    "print(\"length of string: \", len(str(path_face_cropped)))\n",
    "image_count = len(list(path_face_cropped.glob('*.jpg')))\n",
    "print(\"number of images in directory: \",image_count)"
   ]
  },
  {
   "cell_type": "code",
   "execution_count": 19,
   "metadata": {},
   "outputs": [
    {
     "name": "stdout",
     "output_type": "stream",
     "text": [
      "age-gender-ethnicity\\crop_part1\\100_1_2_20170105174847679.jpg.chip.jpg\n"
     ]
    },
    {
     "data": {
      "image/png": "[encoded data removed]",
      "text/plain": [
       "<PIL.JpegImagePlugin.JpegImageFile image mode=RGB size=200x200 at 0x19D66AC10C8>"
      ]
     },
     "execution_count": 19,
     "metadata": {},
     "output_type": "execute_result"
    }
   ],
   "source": [
    "faces = list(path_face_cropped.glob('*.jpg'))\n",
    "print(faces[1])\n",
    "img1 = PIL.Image.open(str(faces[1]))\n",
    "img1"
   ]
  },
  {
   "cell_type": "code",
   "execution_count": 20,
   "metadata": {},
   "outputs": [],
   "source": [
    "batch = 32\n",
    "img_height = 210\n",
    "img_width = 210"
   ]
  },
  {
   "cell_type": "code",
   "execution_count": 21,
   "metadata": {},
   "outputs": [],
   "source": [
    "age_class=['0-20','21-40','41-60','61-80','81-116']"
   ]
  },
  {
   "cell_type": "code",
   "execution_count": 22,
   "metadata": {},
   "outputs": [
    {
     "name": "stdout",
     "output_type": "stream",
     "text": [
      "------------------------------------\n",
      "Total number of males:  12391\n",
      "Total number of females:  11317\n",
      "------------------------------------\n",
      "Total number of Population between 0-20:  4877\n",
      "Total number of Population between 21-40:  12123\n",
      "Total number of Population between 41-60:  4311\n",
      "Total number of Population between 61-80:  1857\n",
      "Total number of Population between 81-116:  540\n",
      "------------------------------------\n",
      "Total number of White people:  10078\n",
      "Total number of Black people:  4526\n",
      "Total number of Asian people:  3434\n",
      "Total number of Indian people:  3975\n",
      "Total number of Others people:  1695\n",
      "------------------------------------\n"
     ]
    },
    {
     "data": {
      "image/png": "[encoded data removed]",
      "text/plain": [
       "<Figure size 432x288 with 1 Axes>"
      ]
     },
     "metadata": {
      "needs_background": "light"
     },
     "output_type": "display_data"
    },
    {
     "data": {
      "image/png": "[encoded data removed]",
      "text/plain": [
       "<Figure size 432x288 with 1 Axes>"
      ]
     },
     "metadata": {
      "needs_background": "light"
     },
     "output_type": "display_data"
    },
    {
     "data": {
      "image/png": "[encoded data removed]",
      "text/plain": [
       "<Figure size 432x288 with 1 Axes>"
      ]
     },
     "metadata": {
      "needs_background": "light"
     },
     "output_type": "display_data"
    }
   ],
   "source": [
    "import re\n",
    "A = os.listdir('age-gender-ethnicity/UTKFace')\n",
    "data = [i.split('.') for i in A]\n",
    "info = [i[0].split('_') for i in data]\n",
    "male = 0\n",
    "female = 0\n",
    "Populationbetween81_116 = 0\n",
    "Populationbetween61_80 = 0\n",
    "Populationbetween41_60 = 0\n",
    "Populationbetween21_40 = 0\n",
    "Populationbetween0_20 = 0\n",
    "Whitepeople = 0\n",
    "Blackpeople = 0\n",
    "Asianpeople = 0\n",
    "Indianpeople = 0\n",
    "Otherspeople = 0\n",
    "\n",
    "for img in info:\n",
    "    \n",
    "    #Making 0 and 1 into male and female to make it more interpretable\n",
    "    if img[1] == '0':\n",
    "        img[1] = 'male'\n",
    "        male = male + 1\n",
    "    else:\n",
    "        img[1] = 'female'\n",
    "        female = female + 1\n",
    "        \n",
    "     \n",
    "\n",
    " #Making the age label into age ranges instead\n",
    " \n",
    "    if int(img[0]) > 80:\n",
    "        img[0] = '81-116'\n",
    "        Populationbetween81_116 = Populationbetween81_116 + 1\n",
    "    elif int(img[0]) > 60:\n",
    "        img[0] = '61-80'\n",
    "        Populationbetween61_80 =    Populationbetween61_80 + 1\n",
    "    elif int(img[0]) > 40:\n",
    "        img[0] = '41-60'\n",
    "        Populationbetween41_60 =   Populationbetween41_60 + 1\n",
    "    elif int(img[0]) > 20:\n",
    "        img[0] = '21-40'\n",
    "        Populationbetween21_40 =   Populationbetween21_40 + 1\n",
    "    else:\n",
    "        img[0] = '0-20'  \n",
    "        Populationbetween0_20 = Populationbetween0_20 + 1\n",
    "        \n",
    "        \n",
    " #Making the ethnicity numerical label into ethnicity name\n",
    "    if int(img[2]) == 0:\n",
    "        img[2] = 'White'\n",
    "        Whitepeople = Whitepeople + 1\n",
    "    elif int(img[2]) == 1:\n",
    "        img[2] = 'Black'\n",
    "        Blackpeople = Blackpeople + 1\n",
    "    elif int(img[2]) == 2:\n",
    "        img[2] = 'Asian'\n",
    "        Asianpeople = Asianpeople + 1\n",
    "    elif int(img[2]) == 3:\n",
    "        img[2] = 'Indian'\n",
    "        Indianpeople = Indianpeople + 1\n",
    "    else:\n",
    "        img[2] = 'Others'   \n",
    "        Otherspeople = Otherspeople + 1\n",
    "\n",
    "\n",
    "\n",
    "  #Stats   \n",
    "print(\"------------------------------------\")\n",
    "print(\"Total number of males: \", male)\n",
    "print(\"Total number of females: \", female)\n",
    "print(\"------------------------------------\")\n",
    "print(\"Total number of Population between 0-20: \", Populationbetween0_20)\n",
    "print(\"Total number of Population between 21-40: \", Populationbetween21_40)\n",
    "print(\"Total number of Population between 41-60: \", Populationbetween41_60)\n",
    "print(\"Total number of Population between 61-80: \", Populationbetween61_80)\n",
    "print(\"Total number of Population between 81-116: \", Populationbetween81_116)\n",
    "print(\"------------------------------------\")\n",
    "print(\"Total number of White people: \", Whitepeople)\n",
    "print(\"Total number of Black people: \", Blackpeople)\n",
    "print(\"Total number of Asian people: \", Asianpeople)\n",
    "print(\"Total number of Indian people: \", Indianpeople)\n",
    "print(\"Total number of Others people: \", Otherspeople)\n",
    "print(\"------------------------------------\")\n",
    "\n",
    "\n",
    "\n",
    "\n",
    "import matplotlib.pyplot as plt\n",
    "   \n",
    "Gender = ['Male', 'Female']\n",
    "Gendercount = [male, female]\n",
    "New_Colors = ['green','blue']\n",
    "plt.bar(Gender,Gendercount, color=New_Colors)\n",
    "plt.title('Dataset Gender analysis', fontsize=14)\n",
    "plt.xlabel('Gender', fontsize=14)\n",
    "plt.ylabel('Number of people', fontsize=14)\n",
    "plt.grid(True)\n",
    "plt.show()\n",
    "\n",
    "Ages = [' 0-20', ' 21-40', '41-60', '61-80', '81-116']\n",
    "Peopleinagebracket = [Populationbetween0_20, Populationbetween21_40, Populationbetween41_60, Populationbetween61_80, Populationbetween81_116]\n",
    "\n",
    "New_Colors = ['green','blue','purple','brown','teal']\n",
    "plt.bar(Ages,Peopleinagebracket, color=New_Colors)\n",
    "plt.title('Dataset Ages analysis', fontsize=14)\n",
    "plt.xlabel('Ages', fontsize=14)\n",
    "plt.ylabel('People in age bracket', fontsize=14)\n",
    "plt.grid(True)\n",
    "plt.show()\n",
    " \n",
    "\n",
    "Race = ['White people','Black people', 'Asian people', 'Indian people', 'Others']\n",
    "Numberofpeopleofeachrace = [Whitepeople, Blackpeople, Asianpeople, Indianpeople, Otherspeople]\n",
    "\n",
    "New_Colors = ['green','blue','purple','brown','teal']\n",
    "plt.bar(Race,Numberofpeopleofeachrace, color=New_Colors)\n",
    "plt.title('Dataset Race analysis', fontsize=14)\n",
    "plt.xlabel('Race', fontsize=14)\n",
    "plt.ylabel('Number of people of each race', fontsize=14)\n",
    "plt.grid(True)\n",
    "plt.show()"
   ]
  },
  {
   "cell_type": "code",
   "execution_count": 23,
   "metadata": {},
   "outputs": [
    {
     "data": {
      "text/html": [
       "<div>\n",
       "<style scoped>\n",
       "    .dataframe tbody tr th:only-of-type {\n",
       "        vertical-align: middle;\n",
       "    }\n",
       "\n",
       "    .dataframe tbody tr th {\n",
       "        vertical-align: top;\n",
       "    }\n",
       "\n",
       "    .dataframe thead th {\n",
       "        text-align: right;\n",
       "    }\n",
       "</style>\n",
       "<table border=\"1\" class=\"dataframe\">\n",
       "  <thead>\n",
       "    <tr style=\"text-align: right;\">\n",
       "      <th></th>\n",
       "      <th>images</th>\n",
       "      <th>age</th>\n",
       "      <th>gender</th>\n",
       "      <th>ImageDescription</th>\n",
       "    </tr>\n",
       "  </thead>\n",
       "  <tbody>\n",
       "    <tr>\n",
       "      <th>0</th>\n",
       "      <td>81-116</td>\n",
       "      <td>male</td>\n",
       "      <td>White</td>\n",
       "      <td>20170112213500903</td>\n",
       "    </tr>\n",
       "    <tr>\n",
       "      <th>1</th>\n",
       "      <td>81-116</td>\n",
       "      <td>male</td>\n",
       "      <td>White</td>\n",
       "      <td>20170112215240346</td>\n",
       "    </tr>\n",
       "    <tr>\n",
       "      <th>2</th>\n",
       "      <td>81-116</td>\n",
       "      <td>female</td>\n",
       "      <td>White</td>\n",
       "      <td>20170110183726390</td>\n",
       "    </tr>\n",
       "    <tr>\n",
       "      <th>3</th>\n",
       "      <td>81-116</td>\n",
       "      <td>female</td>\n",
       "      <td>White</td>\n",
       "      <td>20170112213001988</td>\n",
       "    </tr>\n",
       "    <tr>\n",
       "      <th>4</th>\n",
       "      <td>81-116</td>\n",
       "      <td>female</td>\n",
       "      <td>White</td>\n",
       "      <td>20170112213303693</td>\n",
       "    </tr>\n",
       "    <tr>\n",
       "      <th>...</th>\n",
       "      <td>...</td>\n",
       "      <td>...</td>\n",
       "      <td>...</td>\n",
       "      <td>...</td>\n",
       "    </tr>\n",
       "    <tr>\n",
       "      <th>23703</th>\n",
       "      <td>0-20</td>\n",
       "      <td>female</td>\n",
       "      <td>Indian</td>\n",
       "      <td>20161220222856346</td>\n",
       "    </tr>\n",
       "    <tr>\n",
       "      <th>23704</th>\n",
       "      <td>0-20</td>\n",
       "      <td>female</td>\n",
       "      <td>Indian</td>\n",
       "      <td>20170104222949455</td>\n",
       "    </tr>\n",
       "    <tr>\n",
       "      <th>23705</th>\n",
       "      <td>0-20</td>\n",
       "      <td>female</td>\n",
       "      <td>Others</td>\n",
       "      <td>20170103200637399</td>\n",
       "    </tr>\n",
       "    <tr>\n",
       "      <th>23706</th>\n",
       "      <td>0-20</td>\n",
       "      <td>female</td>\n",
       "      <td>Others</td>\n",
       "      <td>20170103200814791</td>\n",
       "    </tr>\n",
       "    <tr>\n",
       "      <th>23707</th>\n",
       "      <td>0-20</td>\n",
       "      <td>female</td>\n",
       "      <td>Others</td>\n",
       "      <td>20170103213057382</td>\n",
       "    </tr>\n",
       "  </tbody>\n",
       "</table>\n",
       "<p>23708 rows × 4 columns</p>\n",
       "</div>"
      ],
      "text/plain": [
       "       images     age  gender   ImageDescription\n",
       "0      81-116    male   White  20170112213500903\n",
       "1      81-116    male   White  20170112215240346\n",
       "2      81-116  female   White  20170110183726390\n",
       "3      81-116  female   White  20170112213001988\n",
       "4      81-116  female   White  20170112213303693\n",
       "...       ...     ...     ...                ...\n",
       "23703    0-20  female  Indian  20161220222856346\n",
       "23704    0-20  female  Indian  20170104222949455\n",
       "23705    0-20  female  Others  20170103200637399\n",
       "23706    0-20  female  Others  20170103200814791\n",
       "23707    0-20  female  Others  20170103213057382\n",
       "\n",
       "[23708 rows x 4 columns]"
      ]
     },
     "execution_count": 23,
     "metadata": {},
     "output_type": "execute_result"
    }
   ],
   "source": [
    "df = pd.DataFrame(info, columns=['images','age','gender', 'ImageDescription'])\n",
    "\n",
    "df"
   ]
  },
  {
   "cell_type": "code",
   "execution_count": 24,
   "metadata": {},
   "outputs": [
    {
     "name": "stdout",
     "output_type": "stream",
     "text": [
      "Total samples: 9780\n",
      "100_1_0_20170110183726390.jpg.chip.jpg\n"
     ]
    }
   ],
   "source": [
    "path = \"age-gender-ethnicity/crop_part1\"\n",
    "files = os.listdir(path)\n",
    "size = len(files)\n",
    "print(\"Total samples:\",size)\n",
    "print(files[0])"
   ]
  },
  {
   "cell_type": "code",
   "execution_count": null,
   "metadata": {},
   "outputs": [],
   "source": []
  },
  {
   "cell_type": "code",
   "execution_count": null,
   "metadata": {},
   "outputs": [],
   "source": []
  },
  {
   "cell_type": "code",
   "execution_count": 25,
   "metadata": {},
   "outputs": [],
   "source": [
    "import cv2"
   ]
  },
  {
   "cell_type": "code",
   "execution_count": 26,
   "metadata": {},
   "outputs": [
    {
     "ename": "error",
     "evalue": "OpenCV(3.4.1) C:\\Miniconda3\\conda-bld\\opencv-suite_1533128839831\\work\\modules\\imgproc\\src\\resize.cpp:4044: error: (-215) ssize.width > 0 && ssize.height > 0 in function cv::resize\n",
     "output_type": "error",
     "traceback": [
      "\u001b[1;31m---------------------------------------------------------------------------\u001b[0m",
      "\u001b[1;31merror\u001b[0m                                     Traceback (most recent call last)",
      "\u001b[1;32m<ipython-input-26-93fd2604bce6>\u001b[0m in \u001b[0;36m<module>\u001b[1;34m\u001b[0m\n\u001b[0;32m      4\u001b[0m \u001b[1;32mfor\u001b[0m \u001b[0mfile\u001b[0m \u001b[1;32min\u001b[0m \u001b[0mfiles\u001b[0m\u001b[1;33m:\u001b[0m\u001b[1;33m\u001b[0m\u001b[1;33m\u001b[0m\u001b[0m\n\u001b[0;32m      5\u001b[0m     \u001b[0mimage\u001b[0m \u001b[1;33m=\u001b[0m \u001b[0mcv2\u001b[0m\u001b[1;33m.\u001b[0m\u001b[0mimread\u001b[0m\u001b[1;33m(\u001b[0m\u001b[0mpath\u001b[0m\u001b[1;33m+\u001b[0m\u001b[0mfile\u001b[0m\u001b[1;33m,\u001b[0m\u001b[1;36m0\u001b[0m\u001b[1;33m)\u001b[0m\u001b[1;33m\u001b[0m\u001b[1;33m\u001b[0m\u001b[0m\n\u001b[1;32m----> 6\u001b[1;33m     \u001b[0mimage\u001b[0m \u001b[1;33m=\u001b[0m \u001b[0mcv2\u001b[0m\u001b[1;33m.\u001b[0m\u001b[0mresize\u001b[0m\u001b[1;33m(\u001b[0m\u001b[0mimage\u001b[0m\u001b[1;33m,\u001b[0m\u001b[0mdsize\u001b[0m\u001b[1;33m=\u001b[0m\u001b[1;33m(\u001b[0m\u001b[1;36m64\u001b[0m\u001b[1;33m,\u001b[0m\u001b[1;36m64\u001b[0m\u001b[1;33m)\u001b[0m\u001b[1;33m)\u001b[0m\u001b[1;33m\u001b[0m\u001b[1;33m\u001b[0m\u001b[0m\n\u001b[0m\u001b[0;32m      7\u001b[0m     \u001b[0mimage\u001b[0m \u001b[1;33m=\u001b[0m \u001b[0mimage\u001b[0m\u001b[1;33m.\u001b[0m\u001b[0mreshape\u001b[0m\u001b[1;33m(\u001b[0m\u001b[1;33m(\u001b[0m\u001b[0mimage\u001b[0m\u001b[1;33m.\u001b[0m\u001b[0mshape\u001b[0m\u001b[1;33m[\u001b[0m\u001b[1;36m0\u001b[0m\u001b[1;33m]\u001b[0m\u001b[1;33m,\u001b[0m\u001b[0mimage\u001b[0m\u001b[1;33m.\u001b[0m\u001b[0mshape\u001b[0m\u001b[1;33m[\u001b[0m\u001b[1;36m1\u001b[0m\u001b[1;33m]\u001b[0m\u001b[1;33m,\u001b[0m\u001b[1;36m1\u001b[0m\u001b[1;33m)\u001b[0m\u001b[1;33m)\u001b[0m\u001b[1;33m\u001b[0m\u001b[1;33m\u001b[0m\u001b[0m\n\u001b[0;32m      8\u001b[0m     \u001b[0mimages\u001b[0m\u001b[1;33m.\u001b[0m\u001b[0mappend\u001b[0m\u001b[1;33m(\u001b[0m\u001b[0mimage\u001b[0m\u001b[1;33m)\u001b[0m\u001b[1;33m\u001b[0m\u001b[1;33m\u001b[0m\u001b[0m\n",
      "\u001b[1;31merror\u001b[0m: OpenCV(3.4.1) C:\\Miniconda3\\conda-bld\\opencv-suite_1533128839831\\work\\modules\\imgproc\\src\\resize.cpp:4044: error: (-215) ssize.width > 0 && ssize.height > 0 in function cv::resize\n"
     ]
    }
   ],
   "source": [
    "images = []\n",
    "ages = []\n",
    "genders = []\n",
    "for file in files:\n",
    "    image = cv2.imread(path+file,0)\n",
    "    image = cv2.resize(image,dsize=(64,64))\n",
    "    image = image.reshape((image.shape[0],image.shape[1],1))\n",
    "    images.append(image)\n",
    "    split_var = file.split('_')\n",
    "    ages.append(split_var[0])\n",
    "    genders.append(int(split_var[1]) )"
   ]
  },
  {
   "cell_type": "code",
   "execution_count": null,
   "metadata": {},
   "outputs": [],
   "source": []
  },
  {
   "cell_type": "code",
   "execution_count": null,
   "metadata": {},
   "outputs": [],
   "source": [
    "pip install anvil-uplink"
   ]
  },
  {
   "cell_type": "code",
   "execution_count": 27,
   "metadata": {},
   "outputs": [
    {
     "name": "stdout",
     "output_type": "stream",
     "text": [
      "Connecting to wss://anvil.works/uplink\n",
      "Anvil websocket open\n",
      "Connected to \"Default environment (dev)\" as SERVER\n"
     ]
    }
   ],
   "source": [
    "import anvil.server\n",
    "import anvil.mpl_util\n",
    "import matplotlib.pyplot as plt\n",
    "\n",
    "anvil.server.connect(\"Y3NNWLJBX7SBTGSFH4TTG7TV-ODJGVLB5ZPLZWPTM\")\n",
    "\n",
    "@anvil.server.callable\n",
    "def emotionimages():\n",
    "    \n",
    "    return v1,v2,v3,v4,v5,v6,v7\n",
    "\n",
    "\n",
    "  \n",
    "\n",
    "\n",
    "@anvil.server.callable\n",
    "def emo():\n",
    "    plt.clf()\n",
    "    \n",
    "    Emotions = ['anger', 'contempt', 'disgust', 'fear', 'happy', 'sadness', 'surprise']\n",
    "    Numbers = [v1, v2, v3, v4, v5, v6, v7]\n",
    "\n",
    "    New_Colors = ['green','blue','purple','brown','teal', 'yellow','black']\n",
    "    plt.bar(Emotions,Numbers, color=New_Colors)\n",
    "    plt.title('Dataset analysis', fontsize=14)\n",
    "    plt.xlabel('Emotions', fontsize=14)\n",
    "    plt.ylabel('Number of images', fontsize=14)\n",
    "    plt.grid(True)\n",
    "    plt.show()\n",
    "  \n",
    "    return anvil.mpl_util.plot_image()\n",
    "\n",
    "@anvil.server.callable\n",
    "def gender():\n",
    "    plt.clf()\n",
    "    Gender = ['Male', 'Female']\n",
    "    Gendercount = [male, female]\n",
    "    New_Colors = ['green','blue']\n",
    "    plt.bar(Gender,Gendercount, color=New_Colors)\n",
    "    plt.title('Dataset Gender analysis', fontsize=14)\n",
    "    plt.xlabel('Gender', fontsize=14)\n",
    "    plt.ylabel('Number of people', fontsize=14)\n",
    "    plt.grid(True)\n",
    "    plt.show()\n",
    "   \n",
    "    return anvil.mpl_util.plot_image()\n",
    "  \n",
    "@anvil.server.callable\n",
    "def age():\n",
    "    plt.clf()\n",
    "    Ages = [' 0-20', ' 21-40', '41-60', '61-80', '81-116']\n",
    "    Peopleinagebracket = [Populationbetween0_20, Populationbetween21_40, Populationbetween41_60, Populationbetween61_80, Populationbetween81_116]\n",
    "\n",
    "    New_Colors = ['green','blue','purple','brown','teal']\n",
    "    plt.bar(Ages,Peopleinagebracket, color=New_Colors)\n",
    "    plt.title('Dataset Ages analysis', fontsize=14)\n",
    "    plt.xlabel('Ages', fontsize=14)\n",
    "    plt.ylabel('People in age bracket', fontsize=14)\n",
    "    plt.grid(True)\n",
    "    plt.show()\n",
    " \n",
    "    return anvil.mpl_util.plot_image()\n",
    "\n",
    "@anvil.server.callable\n",
    "def race():\n",
    "    plt.clf()\n",
    "    Race = ['White people','Black people', 'Asian people', 'Indian people', 'Others']\n",
    "    Numberofpeopleofeachrace = [Whitepeople, Blackpeople, Asianpeople, Indianpeople, Otherspeople]\n",
    "\n",
    "    New_Colors = ['green','blue','purple','brown','teal']\n",
    "    plt.bar(Race,Numberofpeopleofeachrace, color=New_Colors)\n",
    "    plt.title('Dataset Race analysis', fontsize=14)\n",
    "    plt.xlabel('Race', fontsize=14)\n",
    "    plt.ylabel('Number of people of each race', fontsize=14)\n",
    "    plt.grid(True)\n",
    "    plt.show()\n",
    "    return anvil.mpl_util.plot_image()\n",
    "\n",
    "\n",
    "@anvil.server.callable\n",
    "def data():\n",
    "    \n",
    "    return male, female, Populationbetween0_20, Populationbetween21_40, Populationbetween41_60, Populationbetween61_80, Populationbetween81_116, Whitepeople, Blackpeople, Asianpeople, Indianpeople, Otherspeople    \n",
    "\n",
    "@anvil.server.callable\n",
    "def datagrid():\n",
    "    \n",
    "    return pd.DataFrame(info, columns=['images','age','gender', 'ImageDescription'])"
   ]
  },
  {
   "cell_type": "code",
   "execution_count": 28,
   "metadata": {},
   "outputs": [],
   "source": [
    "import numpy as np # linear algebra\n",
    "np.random.seed(100)\n",
    "import pandas as pd"
   ]
  },
  {
   "cell_type": "code",
   "execution_count": 29,
   "metadata": {},
   "outputs": [],
   "source": [
    "import ipywidgets as widgets"
   ]
  },
  {
   "cell_type": "code",
   "execution_count": 30,
   "metadata": {},
   "outputs": [],
   "source": [
    "import os"
   ]
  },
  {
   "cell_type": "code",
   "execution_count": 31,
   "metadata": {},
   "outputs": [],
   "source": [
    "from IPython.display import display"
   ]
  },
  {
   "cell_type": "code",
   "execution_count": 32,
   "metadata": {},
   "outputs": [],
   "source": [
    "import re\n",
    "A = os.listdir('age-gender-ethnicity/UTKFace')"
   ]
  },
  {
   "cell_type": "code",
   "execution_count": 133,
   "metadata": {},
   "outputs": [],
   "source": [
    "data = [i.split('.') for i in A]\n",
    "info = [i[0].split('_') for i in data]"
   ]
  },
  {
   "cell_type": "code",
   "execution_count": 131,
   "metadata": {},
   "outputs": [],
   "source": [
    "for img in info:\n",
    "    \n",
    "    #Making 0 and 1 into male and female to make it more interpretable\n",
    "    if img[1] == '0':\n",
    "        img[1] = 'Male'\n",
    "    else:\n",
    "        img[1] = 'Female'\n",
    "        \n",
    "        \n",
    " #Making the ethnicity numerical label into ethnicity name\n",
    "    if int(img[2]) == 0:\n",
    "        img[2] = 'White'\n",
    "    elif int(img[2]) == 1:\n",
    "        img[2] = 'Black'\n",
    "    elif int(img[2]) == 2:\n",
    "        img[2] = 'Asian'\n",
    "    elif int(img[2]) == 3:\n",
    "        img[2] = 'Indian'\n",
    "    else:\n",
    "        img[2] = 'Others'"
   ]
  },
  {
   "cell_type": "code",
   "execution_count": 134,
   "metadata": {},
   "outputs": [],
   "source": [
    "df = pd.DataFrame(info, columns=['Age','Gender', 'Race', 'ImageDescription'])\n",
    "df['Name'] = A"
   ]
  },
  {
   "cell_type": "code",
   "execution_count": 135,
   "metadata": {},
   "outputs": [
    {
     "data": {
      "text/html": [
       "<div>\n",
       "<style scoped>\n",
       "    .dataframe tbody tr th:only-of-type {\n",
       "        vertical-align: middle;\n",
       "    }\n",
       "\n",
       "    .dataframe tbody tr th {\n",
       "        vertical-align: top;\n",
       "    }\n",
       "\n",
       "    .dataframe thead th {\n",
       "        text-align: right;\n",
       "    }\n",
       "</style>\n",
       "<table border=\"1\" class=\"dataframe\">\n",
       "  <thead>\n",
       "    <tr style=\"text-align: right;\">\n",
       "      <th></th>\n",
       "      <th>Age</th>\n",
       "      <th>Gender</th>\n",
       "      <th>Race</th>\n",
       "      <th>ImageDescription</th>\n",
       "      <th>Name</th>\n",
       "    </tr>\n",
       "  </thead>\n",
       "  <tbody>\n",
       "    <tr>\n",
       "      <th>0</th>\n",
       "      <td>100</td>\n",
       "      <td>0</td>\n",
       "      <td>0</td>\n",
       "      <td>20170112213500903</td>\n",
       "      <td>100_0_0_20170112213500903.jpg.chip.jpg</td>\n",
       "    </tr>\n",
       "    <tr>\n",
       "      <th>1</th>\n",
       "      <td>100</td>\n",
       "      <td>0</td>\n",
       "      <td>0</td>\n",
       "      <td>20170112215240346</td>\n",
       "      <td>100_0_0_20170112215240346.jpg.chip.jpg</td>\n",
       "    </tr>\n",
       "    <tr>\n",
       "      <th>2</th>\n",
       "      <td>100</td>\n",
       "      <td>1</td>\n",
       "      <td>0</td>\n",
       "      <td>20170110183726390</td>\n",
       "      <td>100_1_0_20170110183726390.jpg.chip.jpg</td>\n",
       "    </tr>\n",
       "    <tr>\n",
       "      <th>3</th>\n",
       "      <td>100</td>\n",
       "      <td>1</td>\n",
       "      <td>0</td>\n",
       "      <td>20170112213001988</td>\n",
       "      <td>100_1_0_20170112213001988.jpg.chip.jpg</td>\n",
       "    </tr>\n",
       "    <tr>\n",
       "      <th>4</th>\n",
       "      <td>100</td>\n",
       "      <td>1</td>\n",
       "      <td>0</td>\n",
       "      <td>20170112213303693</td>\n",
       "      <td>100_1_0_20170112213303693.jpg.chip.jpg</td>\n",
       "    </tr>\n",
       "    <tr>\n",
       "      <th>...</th>\n",
       "      <td>...</td>\n",
       "      <td>...</td>\n",
       "      <td>...</td>\n",
       "      <td>...</td>\n",
       "      <td>...</td>\n",
       "    </tr>\n",
       "    <tr>\n",
       "      <th>23703</th>\n",
       "      <td>9</td>\n",
       "      <td>1</td>\n",
       "      <td>3</td>\n",
       "      <td>20161220222856346</td>\n",
       "      <td>9_1_3_20161220222856346.jpg.chip.jpg</td>\n",
       "    </tr>\n",
       "    <tr>\n",
       "      <th>23704</th>\n",
       "      <td>9</td>\n",
       "      <td>1</td>\n",
       "      <td>3</td>\n",
       "      <td>20170104222949455</td>\n",
       "      <td>9_1_3_20170104222949455.jpg.chip.jpg</td>\n",
       "    </tr>\n",
       "    <tr>\n",
       "      <th>23705</th>\n",
       "      <td>9</td>\n",
       "      <td>1</td>\n",
       "      <td>4</td>\n",
       "      <td>20170103200637399</td>\n",
       "      <td>9_1_4_20170103200637399.jpg.chip.jpg</td>\n",
       "    </tr>\n",
       "    <tr>\n",
       "      <th>23706</th>\n",
       "      <td>9</td>\n",
       "      <td>1</td>\n",
       "      <td>4</td>\n",
       "      <td>20170103200814791</td>\n",
       "      <td>9_1_4_20170103200814791.jpg.chip.jpg</td>\n",
       "    </tr>\n",
       "    <tr>\n",
       "      <th>23707</th>\n",
       "      <td>9</td>\n",
       "      <td>1</td>\n",
       "      <td>4</td>\n",
       "      <td>20170103213057382</td>\n",
       "      <td>9_1_4_20170103213057382.jpg.chip.jpg</td>\n",
       "    </tr>\n",
       "  </tbody>\n",
       "</table>\n",
       "<p>23708 rows × 5 columns</p>\n",
       "</div>"
      ],
      "text/plain": [
       "       Age Gender Race   ImageDescription  \\\n",
       "0      100      0    0  20170112213500903   \n",
       "1      100      0    0  20170112215240346   \n",
       "2      100      1    0  20170110183726390   \n",
       "3      100      1    0  20170112213001988   \n",
       "4      100      1    0  20170112213303693   \n",
       "...    ...    ...  ...                ...   \n",
       "23703    9      1    3  20161220222856346   \n",
       "23704    9      1    3  20170104222949455   \n",
       "23705    9      1    4  20170103200637399   \n",
       "23706    9      1    4  20170103200814791   \n",
       "23707    9      1    4  20170103213057382   \n",
       "\n",
       "                                         Name  \n",
       "0      100_0_0_20170112213500903.jpg.chip.jpg  \n",
       "1      100_0_0_20170112215240346.jpg.chip.jpg  \n",
       "2      100_1_0_20170110183726390.jpg.chip.jpg  \n",
       "3      100_1_0_20170112213001988.jpg.chip.jpg  \n",
       "4      100_1_0_20170112213303693.jpg.chip.jpg  \n",
       "...                                       ...  \n",
       "23703    9_1_3_20161220222856346.jpg.chip.jpg  \n",
       "23704    9_1_3_20170104222949455.jpg.chip.jpg  \n",
       "23705    9_1_4_20170103200637399.jpg.chip.jpg  \n",
       "23706    9_1_4_20170103200814791.jpg.chip.jpg  \n",
       "23707    9_1_4_20170103213057382.jpg.chip.jpg  \n",
       "\n",
       "[23708 rows x 5 columns]"
      ]
     },
     "execution_count": 135,
     "metadata": {},
     "output_type": "execute_result"
    }
   ],
   "source": [
    "df"
   ]
  },
  {
   "cell_type": "code",
   "execution_count": 136,
   "metadata": {},
   "outputs": [],
   "source": [
    "ALL = 'ALL'\n",
    "def unique_sorted_values_plus_ALL(array):\n",
    "    unique = array.unique().tolist()\n",
    "    unique.sort()\n",
    "    unique.insert(0, ALL)\n",
    "    return unique"
   ]
  },
  {
   "cell_type": "code",
   "execution_count": 137,
   "metadata": {},
   "outputs": [
    {
     "data": {
      "application/vnd.jupyter.widget-view+json": {
       "model_id": "493903267f4c4100a4cfef99bcc7ffda",
       "version_major": 2,
       "version_minor": 0
      },
      "text/plain": [
       "Dropdown(options=('ALL', '0', '1'), value='ALL')"
      ]
     },
     "metadata": {},
     "output_type": "display_data"
    },
    {
     "data": {
      "application/vnd.jupyter.widget-view+json": {
       "model_id": "52add5e9425d40eb900ac63e78928f07",
       "version_major": 2,
       "version_minor": 0
      },
      "text/plain": [
       "Dropdown(options=('ALL', '0', '1', '2', '20170109142408075', '20170109150557335', '20170116174525125', '3', '4…"
      ]
     },
     "metadata": {},
     "output_type": "display_data"
    }
   ],
   "source": [
    "output = widgets.Output()\n",
    "\n",
    "dropdown_gender = widgets.Dropdown(options = unique_sorted_values_plus_ALL(df.Gender))\n",
    "dropdown_race = widgets.Dropdown(options = unique_sorted_values_plus_ALL(df.Race))\n",
    "\n",
    "def common_filtering(gender, race):\n",
    "    output.clear_output()\n",
    "    \n",
    "    if (gender == ALL) & (race == ALL):\n",
    "        common_filter = df\n",
    "    elif (gender == ALL):\n",
    "        common_filter = df[(df.Race == race)]\n",
    "    elif (race == ALL):\n",
    "        common_filter = df[(df.Gender == gender)]    \n",
    "    else:\n",
    "        common_filter = df[(df.Gender == gender) & (df.Race == race)]\n",
    "    \n",
    "    with output:\n",
    "        display(common_filter)\n",
    "\n",
    "def dropdown_gender_eventhandler(change):\n",
    "    common_filtering(change.new, dropdown_gender.value)\n",
    "\n",
    "def dropdown_race_eventhandler(change):\n",
    "    common_filtering(dropdown_race.value, change.new)\n",
    "    \n",
    "\n",
    "dropdown_gender.observe(dropdown_gender_eventhandler, names='value')\n",
    "dropdown_race.observe(dropdown_race_eventhandler, names='value')\n",
    "\n",
    "display(dropdown_gender)\n",
    "display(dropdown_race)"
   ]
  },
  {
   "cell_type": "code",
   "execution_count": 138,
   "metadata": {},
   "outputs": [
    {
     "data": {
      "application/vnd.jupyter.widget-view+json": {
       "model_id": "f2caf13a30ce409b9bd34a411725a90c",
       "version_major": 2,
       "version_minor": 0
      },
      "text/plain": [
       "Output()"
      ]
     },
     "metadata": {},
     "output_type": "display_data"
    }
   ],
   "source": [
    "display(output)"
   ]
  },
  {
   "cell_type": "code",
   "execution_count": null,
   "metadata": {},
   "outputs": [],
   "source": []
  }
 ],
 "metadata": {
  "kernelspec": {
   "display_name": "Python 3",
   "language": "python",
   "name": "python3"
  },
  "language_info": {
   "codemirror_mode": {
    "name": "ipython",
    "version": 3
   },
   "file_extension": ".py",
   "mimetype": "text/x-python",
   "name": "python",
   "nbconvert_exporter": "python",
   "pygments_lexer": "ipython3",
   "version": "3.9.7"
  }
 },
 "nbformat": 4,
 "nbformat_minor": 4
}
